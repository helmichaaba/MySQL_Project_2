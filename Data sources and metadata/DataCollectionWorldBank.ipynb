{
 "cells": [
  {
   "cell_type": "code",
   "execution_count": 8,
   "id": "46e62d06",
   "metadata": {},
   "outputs": [],
   "source": [
    "import requests\n",
    "import pandas\n",
    "import wbgapi as wb\n",
    "import json\n",
    "countryList = ['FRA','IND','AUS','TUN', 'USA']"
   ]
  },
  {
   "cell_type": "code",
   "execution_count": 9,
   "id": "f7a26b2f",
   "metadata": {},
   "outputs": [],
   "source": [
    "governmentExpenditure = 'SE.XPD.TOTL.GB.ZS'"
   ]
  },
  {
   "cell_type": "code",
   "execution_count": 10,
   "id": "00113a05",
   "metadata": {},
   "outputs": [
    {
     "data": {
      "text/html": [
       "<div>\n",
       "<style scoped>\n",
       "    .dataframe tbody tr th:only-of-type {\n",
       "        vertical-align: middle;\n",
       "    }\n",
       "\n",
       "    .dataframe tbody tr th {\n",
       "        vertical-align: top;\n",
       "    }\n",
       "\n",
       "    .dataframe thead th {\n",
       "        text-align: right;\n",
       "    }\n",
       "</style>\n",
       "<table border=\"1\" class=\"dataframe\">\n",
       "  <thead>\n",
       "    <tr style=\"text-align: right;\">\n",
       "      <th></th>\n",
       "      <th>YR2015</th>\n",
       "      <th>YR2016</th>\n",
       "      <th>YR2017</th>\n",
       "      <th>YR2018</th>\n",
       "    </tr>\n",
       "    <tr>\n",
       "      <th>economy</th>\n",
       "      <th></th>\n",
       "      <th></th>\n",
       "      <th></th>\n",
       "      <th></th>\n",
       "    </tr>\n",
       "  </thead>\n",
       "  <tbody>\n",
       "    <tr>\n",
       "      <th>AUS</th>\n",
       "      <td>14.08579</td>\n",
       "      <td>13.80435</td>\n",
       "      <td>13.60292</td>\n",
       "      <td>13.48046</td>\n",
       "    </tr>\n",
       "    <tr>\n",
       "      <th>FRA</th>\n",
       "      <td>NaN</td>\n",
       "      <td>NaN</td>\n",
       "      <td>9.65243</td>\n",
       "      <td>9.72483</td>\n",
       "    </tr>\n",
       "    <tr>\n",
       "      <th>IND</th>\n",
       "      <td>12.53117</td>\n",
       "      <td>12.75355</td>\n",
       "      <td>NaN</td>\n",
       "      <td>NaN</td>\n",
       "    </tr>\n",
       "    <tr>\n",
       "      <th>TUN</th>\n",
       "      <td>22.66534</td>\n",
       "      <td>NaN</td>\n",
       "      <td>NaN</td>\n",
       "      <td>NaN</td>\n",
       "    </tr>\n",
       "    <tr>\n",
       "      <th>USA</th>\n",
       "      <td>NaN</td>\n",
       "      <td>NaN</td>\n",
       "      <td>NaN</td>\n",
       "      <td>NaN</td>\n",
       "    </tr>\n",
       "  </tbody>\n",
       "</table>\n",
       "</div>"
      ],
      "text/plain": [
       "           YR2015    YR2016    YR2017    YR2018\n",
       "economy                                        \n",
       "AUS      14.08579  13.80435  13.60292  13.48046\n",
       "FRA           NaN       NaN   9.65243   9.72483\n",
       "IND      12.53117  12.75355       NaN       NaN\n",
       "TUN      22.66534       NaN       NaN       NaN\n",
       "USA           NaN       NaN       NaN       NaN"
      ]
     },
     "execution_count": 10,
     "metadata": {},
     "output_type": "execute_result"
    }
   ],
   "source": [
    "ren = wb.data.DataFrame(governmentExpenditure, countryList, time=range(2015, 2019))\n",
    "ren"
   ]
  },
  {
   "cell_type": "code",
   "execution_count": null,
   "id": "f18d512e",
   "metadata": {},
   "outputs": [],
   "source": [
    "ren.to_csv(r'/Users/helmichaaba/governmentExpenditure.csv')"
   ]
  },
  {
   "cell_type": "code",
   "execution_count": 11,
   "id": "50421fd4",
   "metadata": {},
   "outputs": [],
   "source": [
    "schoolTertiaryEnrollment = 'SE.TER.ENRR'"
   ]
  },
  {
   "cell_type": "code",
   "execution_count": 12,
   "id": "d619255e",
   "metadata": {},
   "outputs": [
    {
     "data": {
      "text/html": [
       "<div>\n",
       "<style scoped>\n",
       "    .dataframe tbody tr th:only-of-type {\n",
       "        vertical-align: middle;\n",
       "    }\n",
       "\n",
       "    .dataframe tbody tr th {\n",
       "        vertical-align: top;\n",
       "    }\n",
       "\n",
       "    .dataframe thead th {\n",
       "        text-align: right;\n",
       "    }\n",
       "</style>\n",
       "<table border=\"1\" class=\"dataframe\">\n",
       "  <thead>\n",
       "    <tr style=\"text-align: right;\">\n",
       "      <th></th>\n",
       "      <th>YR2015</th>\n",
       "      <th>YR2016</th>\n",
       "      <th>YR2017</th>\n",
       "      <th>YR2018</th>\n",
       "    </tr>\n",
       "    <tr>\n",
       "      <th>economy</th>\n",
       "      <th></th>\n",
       "      <th></th>\n",
       "      <th></th>\n",
       "      <th></th>\n",
       "    </tr>\n",
       "  </thead>\n",
       "  <tbody>\n",
       "    <tr>\n",
       "      <th>AUS</th>\n",
       "      <td>118.610863</td>\n",
       "      <td>120.965714</td>\n",
       "      <td>113.142159</td>\n",
       "      <td>107.808052</td>\n",
       "    </tr>\n",
       "    <tr>\n",
       "      <th>FRA</th>\n",
       "      <td>62.785931</td>\n",
       "      <td>64.727676</td>\n",
       "      <td>65.802231</td>\n",
       "      <td>67.543518</td>\n",
       "    </tr>\n",
       "    <tr>\n",
       "      <th>IND</th>\n",
       "      <td>26.768990</td>\n",
       "      <td>26.829220</td>\n",
       "      <td>27.442129</td>\n",
       "      <td>28.060551</td>\n",
       "    </tr>\n",
       "    <tr>\n",
       "      <th>TUN</th>\n",
       "      <td>35.191139</td>\n",
       "      <td>32.815361</td>\n",
       "      <td>32.149380</td>\n",
       "      <td>31.746519</td>\n",
       "    </tr>\n",
       "    <tr>\n",
       "      <th>USA</th>\n",
       "      <td>88.889412</td>\n",
       "      <td>88.835052</td>\n",
       "      <td>88.167389</td>\n",
       "      <td>88.299179</td>\n",
       "    </tr>\n",
       "  </tbody>\n",
       "</table>\n",
       "</div>"
      ],
      "text/plain": [
       "             YR2015      YR2016      YR2017      YR2018\n",
       "economy                                                \n",
       "AUS      118.610863  120.965714  113.142159  107.808052\n",
       "FRA       62.785931   64.727676   65.802231   67.543518\n",
       "IND       26.768990   26.829220   27.442129   28.060551\n",
       "TUN       35.191139   32.815361   32.149380   31.746519\n",
       "USA       88.889412   88.835052   88.167389   88.299179"
      ]
     },
     "execution_count": 12,
     "metadata": {},
     "output_type": "execute_result"
    }
   ],
   "source": [
    "ren = wb.data.DataFrame(schoolTertiaryEnrollment, countryList, time=range(2015, 2019))\n",
    "ren"
   ]
  },
  {
   "cell_type": "code",
   "execution_count": null,
   "id": "e616bb0d",
   "metadata": {},
   "outputs": [],
   "source": [
    "ren.to_csv(r'/Users/helmichaaba/schoolTertiaryEnrollment.csv')"
   ]
  },
  {
   "cell_type": "code",
   "execution_count": 13,
   "id": "edf110b5",
   "metadata": {},
   "outputs": [],
   "source": [
    "unemploymentTotal = 'SL.UEM.TOTL.NE.ZS'"
   ]
  },
  {
   "cell_type": "code",
   "execution_count": 14,
   "id": "494f4333",
   "metadata": {},
   "outputs": [
    {
     "data": {
      "text/html": [
       "<div>\n",
       "<style scoped>\n",
       "    .dataframe tbody tr th:only-of-type {\n",
       "        vertical-align: middle;\n",
       "    }\n",
       "\n",
       "    .dataframe tbody tr th {\n",
       "        vertical-align: top;\n",
       "    }\n",
       "\n",
       "    .dataframe thead th {\n",
       "        text-align: right;\n",
       "    }\n",
       "</style>\n",
       "<table border=\"1\" class=\"dataframe\">\n",
       "  <thead>\n",
       "    <tr style=\"text-align: right;\">\n",
       "      <th></th>\n",
       "      <th>YR2015</th>\n",
       "      <th>YR2016</th>\n",
       "      <th>YR2017</th>\n",
       "      <th>YR2018</th>\n",
       "    </tr>\n",
       "    <tr>\n",
       "      <th>economy</th>\n",
       "      <th></th>\n",
       "      <th></th>\n",
       "      <th></th>\n",
       "      <th></th>\n",
       "    </tr>\n",
       "  </thead>\n",
       "  <tbody>\n",
       "    <tr>\n",
       "      <th>AUS</th>\n",
       "      <td>6.05</td>\n",
       "      <td>5.71</td>\n",
       "      <td>5.59</td>\n",
       "      <td>5.30</td>\n",
       "    </tr>\n",
       "    <tr>\n",
       "      <th>FRA</th>\n",
       "      <td>10.35</td>\n",
       "      <td>10.05</td>\n",
       "      <td>9.41</td>\n",
       "      <td>9.02</td>\n",
       "    </tr>\n",
       "    <tr>\n",
       "      <th>IND</th>\n",
       "      <td>NaN</td>\n",
       "      <td>NaN</td>\n",
       "      <td>NaN</td>\n",
       "      <td>5.33</td>\n",
       "    </tr>\n",
       "    <tr>\n",
       "      <th>TUN</th>\n",
       "      <td>15.16</td>\n",
       "      <td>15.56</td>\n",
       "      <td>15.33</td>\n",
       "      <td>15.46</td>\n",
       "    </tr>\n",
       "    <tr>\n",
       "      <th>USA</th>\n",
       "      <td>5.28</td>\n",
       "      <td>4.87</td>\n",
       "      <td>4.36</td>\n",
       "      <td>3.90</td>\n",
       "    </tr>\n",
       "  </tbody>\n",
       "</table>\n",
       "</div>"
      ],
      "text/plain": [
       "         YR2015  YR2016  YR2017  YR2018\n",
       "economy                                \n",
       "AUS        6.05    5.71    5.59    5.30\n",
       "FRA       10.35   10.05    9.41    9.02\n",
       "IND         NaN     NaN     NaN    5.33\n",
       "TUN       15.16   15.56   15.33   15.46\n",
       "USA        5.28    4.87    4.36    3.90"
      ]
     },
     "execution_count": 14,
     "metadata": {},
     "output_type": "execute_result"
    }
   ],
   "source": [
    "ren = wb.data.DataFrame(unemploymentTotal, countryList, time=range(2015, 2019))\n",
    "ren"
   ]
  },
  {
   "cell_type": "code",
   "execution_count": null,
   "id": "f29c91da",
   "metadata": {},
   "outputs": [],
   "source": [
    "ren.to_csv(r'/Users/helmichaaba/unemploymentTotal.csv')"
   ]
  }
 ],
 "metadata": {
  "kernelspec": {
   "display_name": "Python 3 (ipykernel)",
   "language": "python",
   "name": "python3"
  },
  "language_info": {
   "codemirror_mode": {
    "name": "ipython",
    "version": 3
   },
   "file_extension": ".py",
   "mimetype": "text/x-python",
   "name": "python",
   "nbconvert_exporter": "python",
   "pygments_lexer": "ipython3",
   "version": "3.9.7"
  }
 },
 "nbformat": 4,
 "nbformat_minor": 5
}
